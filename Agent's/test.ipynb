{
 "cells": [
  {
   "cell_type": "code",
   "execution_count": 5,
   "metadata": {},
   "outputs": [
    {
     "data": {
      "text/plain": [
       "True"
      ]
     },
     "execution_count": 5,
     "metadata": {},
     "output_type": "execute_result"
    }
   ],
   "source": [
    "import os\n",
    "import base64\n",
    "import streamlit as st\n",
    "from io import BytesIO\n",
    "from docx import Document\n",
    "from dotenv import load_dotenv\n",
    "from langchain_openai import ChatOpenAI\n",
    "from crewai import Agent, Task, Crew, Process\n",
    "from crewai_tools import ScrapeWebsiteTool, SerperDevTool\n",
    "\n",
    "# Load environment variables from.env file\n",
    "load_dotenv()"
   ]
  },
  {
   "cell_type": "code",
   "execution_count": 6,
   "metadata": {},
   "outputs": [],
   "source": [
    "# LLM object and API Key\n",
    "\n",
    "os.environ['OPENAI_API_KEY'] = os.getenv('OPENAI_API_KEY')\n",
    "os.environ['SERPER_API_KEY'] = os.getenv('SERPER_API_KEY')"
   ]
  },
  {
   "cell_type": "code",
   "execution_count": 10,
   "metadata": {},
   "outputs": [],
   "source": [
    "def Generate_docx(result):\n",
    "    doc = Document()\n",
    "    doc.add_heading(\"Healthcare Diagnosis and Treatment REcommendation's\", 0)\n",
    "    doc.add_paragraph(result)\n",
    "    bio = BytesIO\n",
    "    doc.save(bio)\n",
    "    bio.seek(0)\n",
    "    return bio\n",
    "\n",
    "def get_download_link(bio, filename):\n",
    "    b64 = base64.b64encode(bio.read()).decode()\n",
    "    href = f'data:application/vnd.openxmlformats-officedocument.wordprocessingml.document;base64,{b64}'\n",
    "    return href, filename"
   ]
  },
  {
   "cell_type": "code",
   "execution_count": null,
   "metadata": {},
   "outputs": [],
   "source": []
  }
 ],
 "metadata": {
  "kernelspec": {
   "display_name": "AGENT",
   "language": "python",
   "name": "python3"
  },
  "language_info": {
   "codemirror_mode": {
    "name": "ipython",
    "version": 3
   },
   "file_extension": ".py",
   "mimetype": "text/x-python",
   "name": "python",
   "nbconvert_exporter": "python",
   "pygments_lexer": "ipython3",
   "version": "3.12.7"
  }
 },
 "nbformat": 4,
 "nbformat_minor": 2
}
